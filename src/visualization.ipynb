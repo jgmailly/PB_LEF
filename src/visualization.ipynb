{
 "cells": [
  {
   "cell_type": "code",
   "execution_count": null,
   "id": "01fdfee4",
   "metadata": {},
   "outputs": [],
   "source": [
    "import sys\n",
    "import random\n",
    "import networkx as nx\n",
    "import matplotlib.pyplot as plt"
   ]
  },
  {
   "cell_type": "code",
   "execution_count": null,
   "id": "44cd751f",
   "metadata": {},
   "outputs": [],
   "source": [
    "def plot_graph(nodes,edges):\n",
    "    G=nx.Graph()\n",
    "    G.add_nodes_from(nodes)\n",
    "    G.add_edges_from(edges)\n",
    "    nx.draw_networkx(G)\n",
    "    plt.draw()"
   ]
  },
  {
   "cell_type": "code",
   "execution_count": null,
   "id": "57117810",
   "metadata": {},
   "outputs": [],
   "source": [
    "def social_links(nodes,edges,file_name):\n",
    "    \n",
    "    social_file = open(file_name + \".soc\", 'w')\n",
    "    \n",
    "    social_string = \"\"\n",
    "    for node in nodes:\n",
    "        social_string += str(node) + \"\\n\"\n",
    "    social_string += \"#\\n\"\n",
    "    \n",
    "    for edge in edges:\n",
    "        a = list(edge)\n",
    "        social_string += str(a[0]) + \" \" + str(a[1]) + \"\\n\"\n",
    "    \n",
    "    print(social_string, file = social_file)\n",
    "    \n",
    "    social_file.close()\n"
   ]
  },
  {
   "cell_type": "code",
   "execution_count": null,
   "id": "59c7076f",
   "metadata": {},
   "outputs": [],
   "source": [
    "def preference(prefs,file_name):\n",
    "    \n",
    "    prefs_file = open(file_name +\".pref\", 'w')\n",
    "    prefs_string = prefs\n",
    "    \n",
    "    print(prefs_string, file = prefs_file)\n",
    "    \n",
    "    prefs_file.close()\n"
   ]
  },
  {
   "cell_type": "code",
   "execution_count": null,
   "id": "56cf963c",
   "metadata": {},
   "outputs": [],
   "source": [
    "def generate(nodes,edges,pref,file_name):\n",
    "    social_links(nodes,edges,file_name)\n",
    "    preference(pref,file_name)\n",
    "    plot_graph(nodes,edges)"
   ]
  },
  {
   "cell_type": "code",
   "execution_count": null,
   "id": "b5f69e92",
   "metadata": {},
   "outputs": [],
   "source": [
    "nodes2 = [0,1,2]\n",
    "edges2 = [(0,1),(1,2)]\n",
    "\n",
    "pref1 = \"\\\n",
    "a b c\\n\\\n",
    "a c b\\n\\\n",
    "b a c\\n\"\n",
    "\n",
    "generate(nodes2,edges2,pref1,file_name='abc2')"
   ]
  },
  {
   "cell_type": "code",
   "execution_count": null,
   "id": "6d349571",
   "metadata": {
    "scrolled": true
   },
   "outputs": [],
   "source": [
    "%run decide_LEF_pysat abc2.pref abc2.soc False"
   ]
  },
  {
   "cell_type": "code",
   "execution_count": null,
   "id": "f885db9f",
   "metadata": {},
   "outputs": [],
   "source": [
    "%run max_LEF_pysat_mus abc2.pref abc2.soc False"
   ]
  },
  {
   "cell_type": "code",
   "execution_count": null,
   "id": "1bd295d9",
   "metadata": {
    "scrolled": true
   },
   "outputs": [],
   "source": [
    "nodes42 = [0,1,2,3]\n",
    "edges42 = [(0,1),(1,2),(2,3)]\n",
    "\n",
    "pref42 = \"\\\n",
    "a b c d\\n\\\n",
    "b c d a\\n\\\n",
    "b d a c\\n\\\n",
    "d a b c\\n\"\n",
    "\n",
    "generate(nodes42,edges42,pref42,file_name='abcd2')"
   ]
  },
  {
   "cell_type": "code",
   "execution_count": null,
   "id": "e67f2555",
   "metadata": {},
   "outputs": [],
   "source": [
    "%run decide_LEF_pysat abcd2.pref abcd2.soc False"
   ]
  },
  {
   "cell_type": "code",
   "execution_count": null,
   "id": "6d9df7fe",
   "metadata": {},
   "outputs": [],
   "source": [
    "%run max_LEF_pysat_mus abcd2.pref abcd2.soc False"
   ]
  },
  {
   "cell_type": "code",
   "execution_count": null,
   "id": "f6640248",
   "metadata": {
    "scrolled": true
   },
   "outputs": [],
   "source": [
    "%run max_LEF_pysat_mus abcd2.pref abcd2.soc True"
   ]
  },
  {
   "cell_type": "code",
   "execution_count": null,
   "id": "f6eeb12e",
   "metadata": {},
   "outputs": [],
   "source": [
    "nodes51 = [0,1,2,3,4,5]\n",
    "edges51 = [(0,1),(1,2),(2,3),(3,4),(4,5)]\n",
    "\n",
    "pref51 = \"\\\n",
    "f b c d e a\\n\\\n",
    "b d c a e f\\n\\\n",
    "b c a d e f\\n\\\n",
    "d a b c e f\\n\\\n",
    "f e b c a d\\n\\\n",
    "e c b a d f\\n\"\n",
    "\n",
    "\n",
    "generate(nodes51,edges51,pref51,file_name='abcde')"
   ]
  },
  {
   "cell_type": "code",
   "execution_count": null,
   "id": "5fa2c207",
   "metadata": {},
   "outputs": [],
   "source": [
    "%run decide_LEF_pysat abcde.pref abcde.soc False"
   ]
  },
  {
   "cell_type": "code",
   "execution_count": null,
   "id": "629853f2",
   "metadata": {},
   "outputs": [],
   "source": [
    "%run max_LEF_pysat_mus abcde.pref abcde.soc False"
   ]
  },
  {
   "cell_type": "code",
   "execution_count": null,
   "id": "1e622ac4",
   "metadata": {},
   "outputs": [],
   "source": []
  },
  {
   "cell_type": "code",
   "execution_count": null,
   "id": "baa76429",
   "metadata": {},
   "outputs": [],
   "source": [
    "nodes_1 = [0,1,2,3,4]\n",
    "edges_1 = [(0,1),(1,2), (1,3), (2,4)]\n",
    "\n",
    "pref_1 = \"\\\n",
    "o3 o2 o5 o1 o4\\n\\\n",
    "o3 o5 o2 o1 o4\\n\\\n",
    "o3 o2 o5 o1 o4\\n\\\n",
    "o3 o4 o1 o5 o2\\n\\\n",
    "o3 o2 o4 o5 o1\\n\"\n",
    "\n",
    "generate(nodes_1,edges_1,pref_1,file_name='test')"
   ]
  },
  {
   "cell_type": "code",
   "execution_count": null,
   "id": "3419d960",
   "metadata": {},
   "outputs": [],
   "source": [
    "%%time\n",
    "%run decide_LEF_pysat test.pref test.soc True"
   ]
  },
  {
   "cell_type": "code",
   "execution_count": null,
   "id": "6426087e",
   "metadata": {},
   "outputs": [],
   "source": [
    "%run max_LEF_pysat_mus test.pref test.soc False"
   ]
  },
  {
   "cell_type": "code",
   "execution_count": null,
   "id": "4729dd74",
   "metadata": {},
   "outputs": [],
   "source": [
    "nodes_2 = [0,1,2,3,4]\n",
    "edges_2 = [(0,1),(0,2), (0,3), (0,4)]\n",
    "\n",
    "pref_2 = \"\\\n",
    "o1 o2 o3 o5 o4\\n\\\n",
    "o4 o1 o3 o5 o2\\n\\\n",
    "o4 o5 o2 o3 o1\\n\\\n",
    "o4 o5 o1 o3 o2\\n\\\n",
    "o4 o3 o5 o1 o2\\n\"\n",
    "\n",
    "generate(nodes_2,edges_2,pref_2,file_name='centered5')\n",
    "\n",
    "\n"
   ]
  },
  {
   "cell_type": "code",
   "execution_count": null,
   "id": "96406b2f",
   "metadata": {},
   "outputs": [],
   "source": [
    "\n",
    "%run decide_LEF_pysat centered5.pref centered5.soc True\n",
    "print(f\"\\nNumber of constraints is: {len(cnf.clauses)}\\n\\n\\n\")"
   ]
  },
  {
   "cell_type": "code",
   "execution_count": null,
   "id": "4c0a3902",
   "metadata": {},
   "outputs": [],
   "source": [
    "\n",
    "%run max_LEF_pysat_mus centered5.pref centered5.soc True"
   ]
  },
  {
   "cell_type": "code",
   "execution_count": null,
   "id": "cabe6c8d",
   "metadata": {},
   "outputs": [],
   "source": [
    "%run max_LEF_pysat_mus centered5.pref centered5.soc False"
   ]
  },
  {
   "cell_type": "code",
   "execution_count": null,
   "id": "58d7fc75",
   "metadata": {},
   "outputs": [],
   "source": [
    "graph3 = nx.path_graph(10)\n",
    "edges3 = list(graph3.edges)\n",
    "nodes3 = list(graph3.nodes)\n",
    "\n",
    "pref3 = \"\\\n",
    "o8 o4 o9 o10 o3 o7 o2 o6 o1 o5\\n\\\n",
    "o3 o7 o9 o5 o10 o6 o4 o8 o2 o1\\n\\\n",
    "o7 o3 o5 o10 o4 o8 o6 o1 o2 o9\\n\\\n",
    "o7 o5 o8 o9 o3 o4 o6 o10 o2 o1\\n\\\n",
    "o2 o3 o9 o7 o5 o1 o4 o6 o8 o10\\n\\\n",
    "o8 o6 o2 o4 o7 o1 o3 o9 o10 o5\\n\\\n",
    "o9 o5 o2 o3 o10 o7 o8 o4 o1 o6\\n\\\n",
    "o4 o7 o10 o2 o6 o9 o1 o8 o5 o3\\n\\\n",
    "o7 o10 o3 o2 o8 o6 o5 o1 o9 o4\\n\\\n",
    "o4 o3 o9 o2 o7 o5 o1 o8 o10 o6\\n\"\n",
    "\n",
    "\n",
    "\n",
    "generate(nodes3,edges3,pref3, file_name='line10')"
   ]
  },
  {
   "cell_type": "code",
   "execution_count": null,
   "id": "ecd12447",
   "metadata": {},
   "outputs": [],
   "source": [
    "%run decide_LEF_pysat line10.pref line10.soc True"
   ]
  },
  {
   "cell_type": "code",
   "execution_count": null,
   "id": "32b1291a",
   "metadata": {},
   "outputs": [],
   "source": [
    "\n",
    "%run max_LEF_pysat_mus line10.pref line10.soc False"
   ]
  },
  {
   "cell_type": "code",
   "execution_count": null,
   "id": "51288f4b",
   "metadata": {},
   "outputs": [],
   "source": [
    "nodes4 = list(graph3.nodes)\n",
    "edges4 = [(0,1),(0,2),(0,3),(0,4),(1,3),(1,4),(1,5),(1,7),(3,5),(3,9),(4,6),(4,8),(4,9),(5,6),(5,7),(6,8)]\n",
    "\n",
    "pref4 = \"\\\n",
    "o8 o2 o6 o1 o4 o9 o3 o5 o7 o10\\n\\\n",
    "o3 o1 o2 o5 o6 o9 o4 o7 o10 o8\\n\\\n",
    "o1 o7 o5 o4 o6 o10 o8 o2 o3 o9\\n\\\n",
    "o7 o3 o9 o8 o10 o1 o5 o6 o4 o2\\n\\\n",
    "o10 o2 o5 o8 o4 o6 o3 o7 o9 o1\\n\\\n",
    "o5 o10 o6 o2 o1 o8 o9 o7 o3 o4\\n\\\n",
    "o9 o10 o6 o8 o4 o1 o5 o2 o7 o3\\n\\\n",
    "o4 o3 o9 o7 o6 o1 o5 o2 o10 o8\\n\\\n",
    "o10 o4 o6 o2 o9 o1 o3 o7 o5 o8\\n\\\n",
    "o6 o7 o5 o4 o10 o8 o3 o2 o9 o1\\n\"\n",
    "\n",
    "generate(nodes4,edges4,pref4,file_name='BA10')"
   ]
  },
  {
   "cell_type": "code",
   "execution_count": null,
   "id": "a3b3ed68",
   "metadata": {},
   "outputs": [],
   "source": [
    "\n",
    "%run decide_LEF_pysat BA10.pref BA10.soc True\n",
    "\n"
   ]
  },
  {
   "cell_type": "code",
   "execution_count": null,
   "id": "897a21b4",
   "metadata": {},
   "outputs": [],
   "source": [
    "%run max_LEF_pysat_mus BA10.pref BA10.soc False"
   ]
  },
  {
   "cell_type": "code",
   "execution_count": null,
   "id": "07fa3c3f",
   "metadata": {},
   "outputs": [],
   "source": []
  },
  {
   "cell_type": "code",
   "execution_count": null,
   "id": "ecb054f9",
   "metadata": {},
   "outputs": [],
   "source": []
  }
 ],
 "metadata": {
  "kernelspec": {
   "display_name": "Python 3 (ipykernel)",
   "language": "python",
   "name": "python3"
  },
  "language_info": {
   "codemirror_mode": {
    "name": "ipython",
    "version": 3
   },
   "file_extension": ".py",
   "mimetype": "text/x-python",
   "name": "python",
   "nbconvert_exporter": "python",
   "pygments_lexer": "ipython3",
   "version": "3.7.11"
  }
 },
 "nbformat": 4,
 "nbformat_minor": 5
}
